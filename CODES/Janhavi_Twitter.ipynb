{
  "nbformat": 4,
  "nbformat_minor": 0,
  "metadata": {
    "colab": {
      "name": "Janhavi-Twitter.ipynb",
      "provenance": []
    },
    "kernelspec": {
      "name": "python3",
      "display_name": "Python 3"
    },
    "language_info": {
      "name": "python"
    }
  },
  "cells": [
    {
      "cell_type": "code",
      "metadata": {
        "id": "jrx7ncHUylfV"
      },
      "source": [
        "import pandas as pd\n",
        "import numpy as np\n",
        "import tweepy\n",
        "from tweepy import OAuthHandler\n",
        "from nltk.corpus import stopwords\n",
        "from nltk.stem import WordNetLemmatizer"
      ],
      "execution_count": null,
      "outputs": []
    },
    {
      "cell_type": "code",
      "metadata": {
        "id": "RCcJhudayqtQ"
      },
      "source": [
        "customer_key = 'JjylO1W5nUqZ9ne6lgRsb2QfI'\n",
        "customer_secrete_key = 'yekQi8Tx6GrKR9iKURI124fWUSo3rhDZ4oDCbHdXZj57ZnsXh4'\n",
        "access_token = '1396088272544096260-lD47YnswNTux2QTDPT6qeIfqbgU6Uf'\n",
        "access_secrete_token = 'BVszGt9rizqqc5IcJyf9u35Z9d7GPDqo2GQQSLFo4gsCI'"
      ],
      "execution_count": null,
      "outputs": []
    },
    {
      "cell_type": "code",
      "metadata": {
        "id": "phw7c312yshw"
      },
      "source": [
        "auth = OAuthHandler(customer_key,customer_secrete_key)\n",
        "auth.set_access_token(access_token,access_secrete_token)\n",
        "api = tweepy.API(auth)\n",
        "# for more detail about tweepy go through\n",
        "# http://docs.tweepy.org/en/latest/getting_started.html"
      ],
      "execution_count": null,
      "outputs": []
    },
    {
      "cell_type": "code",
      "metadata": {
        "colab": {
          "base_uri": "https://localhost:8080/"
        },
        "id": "yh1fY4ROys3C",
        "outputId": "f257e27a-13b2-4c4c-a3ce-451202f9cdff"
      },
      "source": [
        "df = pd.DataFrame(columns = ['Tweets' , 'User' , 'User_statuses_count' , \n",
        "                            'user_followers' , 'User_location' , 'User_verified' ,\n",
        "                            'fav_count' , 'rt_count' , 'tweet_date'] )\n",
        "print(df)"
      ],
      "execution_count": null,
      "outputs": [
        {
          "output_type": "stream",
          "text": [
            "Empty DataFrame\n",
            "Columns: [Tweets, User, User_statuses_count, user_followers, User_location, User_verified, fav_count, rt_count, tweet_date]\n",
            "Index: []\n"
          ],
          "name": "stdout"
        }
      ]
    },
    {
      "cell_type": "code",
      "metadata": {
        "id": "zraIX8MBytGV"
      },
      "source": [
        "def streamMod(data, file_name):\n",
        "    i = 0\n",
        "    for tweet in tweepy.Cursor(api.search, q=data,since=\"2021-05-01\",count=1000, lang='en',tweet_mode='extended').items():\n",
        "                print(i, end='\\r')\n",
        "                df.loc[i, 'Tweets'] = tweet.full_text\n",
        "                df.loc[i, 'User'] = tweet.user.name\n",
        "                df.loc[i, 'User_statuses_count'] = tweet.user.statuses_count\n",
        "                df.loc[i, 'user_followers'] = tweet.user.followers_count\n",
        "                df.loc[i, 'User_location'] = tweet.user.location\n",
        "                df.loc[i, 'User_verified'] = tweet.user.verified\n",
        "                df.loc[i, 'fav_count'] = tweet.favorite_count\n",
        "                df.loc[i, 'rt_count'] = tweet.retweet_count\n",
        "                df.loc[i, 'tweet_date'] = tweet.created_at\n",
        "                df.to_excel('{}.xlsx'.format(file_name))\n",
        "                i = i+1\n",
        "                if i == 20000:\n",
        "                    break\n",
        "                else:\n",
        "                    pass\n",
        "    "
      ],
      "execution_count": null,
      "outputs": []
    },
    {
      "cell_type": "code",
      "metadata": {
        "colab": {
          "base_uri": "https://localhost:8080/"
        },
        "id": "833b-CW-zH2g",
        "outputId": "acd8a176-97ae-4ca1-e728-2ca1e2a66a04"
      },
      "source": [
        "#streamMod(data=\"yellow+fungus -filter:retweets\",file_name='yellow_fungus')"
      ],
      "execution_count": null,
      "outputs": [
        {
          "output_type": "stream",
          "text": [
            ""
          ],
          "name": "stdout"
        }
      ]
    },
    {
      "cell_type": "code",
      "metadata": {
        "id": "IyriufGRzWoO"
      },
      "source": [
        "#streamMod(data=\"black+fungus -filter:retweets\",file_name='black_fungus')"
      ],
      "execution_count": null,
      "outputs": []
    },
    {
      "cell_type": "code",
      "metadata": {
        "id": "13prq7HxzW-O"
      },
      "source": [
        "#streamMod(data=\"fungus -filter:retweets\",file_name='fungus')"
      ],
      "execution_count": null,
      "outputs": []
    },
    {
      "cell_type": "code",
      "metadata": {
        "id": "zcFvohuGzXWT"
      },
      "source": [
        "streamMod(data=\"fungai -filter:retweets\",file_name='fungai')"
      ],
      "execution_count": null,
      "outputs": []
    },
    {
      "cell_type": "code",
      "metadata": {
        "id": "L9YXzofpytU3"
      },
      "source": [
        "streamMod(data=\"Mucormycosis -filter:retweets\",file_name='mucormycosis')"
      ],
      "execution_count": null,
      "outputs": []
    },
    {
      "cell_type": "code",
      "metadata": {
        "colab": {
          "base_uri": "https://localhost:8080/",
          "height": 164
        },
        "id": "teR4DHnWyts5",
        "outputId": "d2fee635-3ddc-4ac5-f359-e048252d1f9a"
      },
      "source": [
        "streamMod(data=\"Mucor -filter:retweets\",file_name='mucor')"
      ],
      "execution_count": null,
      "outputs": [
        {
          "output_type": "error",
          "ename": "NameError",
          "evalue": "ignored",
          "traceback": [
            "\u001b[0;31m---------------------------------------------------------------------------\u001b[0m",
            "\u001b[0;31mNameError\u001b[0m                                 Traceback (most recent call last)",
            "\u001b[0;32m<ipython-input-1-543e88c932c7>\u001b[0m in \u001b[0;36m<module>\u001b[0;34m()\u001b[0m\n\u001b[0;32m----> 1\u001b[0;31m \u001b[0mstreamMod\u001b[0m\u001b[0;34m(\u001b[0m\u001b[0mdata\u001b[0m\u001b[0;34m=\u001b[0m\u001b[0;34m\"Mucor -filter:retweets\"\u001b[0m\u001b[0;34m,\u001b[0m\u001b[0mfile_name\u001b[0m\u001b[0;34m=\u001b[0m\u001b[0;34m'mucor'\u001b[0m\u001b[0;34m)\u001b[0m\u001b[0;34m\u001b[0m\u001b[0;34m\u001b[0m\u001b[0m\n\u001b[0m",
            "\u001b[0;31mNameError\u001b[0m: name 'streamMod' is not defined"
          ]
        }
      ]
    },
    {
      "cell_type": "code",
      "metadata": {
        "id": "fN34-8xmy3UR"
      },
      "source": [
        "streamMod(data=\"zygomycosis -filter:retweets\",file_name='zygomycosis')"
      ],
      "execution_count": null,
      "outputs": []
    },
    {
      "cell_type": "code",
      "metadata": {
        "id": "O0XcevQey3ml"
      },
      "source": [
        "streamMod(data=\"mucormycetes -filter:retweets\",file_name='mucormycetes')"
      ],
      "execution_count": null,
      "outputs": []
    },
    {
      "cell_type": "code",
      "metadata": {
        "id": "QE6Gej84y33I"
      },
      "source": [
        "#streamMod(data=\"Candidiasis -filter:retweets\",file_name='Candidiasis')"
      ],
      "execution_count": null,
      "outputs": []
    },
    {
      "cell_type": "code",
      "metadata": {
        "id": "-IWOKJq9y4Fg"
      },
      "source": [
        "#streamMod(data=\"Candida -filter:retweets\",file_name='Candida')"
      ],
      "execution_count": null,
      "outputs": []
    },
    {
      "cell_type": "code",
      "metadata": {
        "id": "gL7aP8Eky4Uj"
      },
      "source": [
        "#streamMod(data=\"aspergillosis -filter:retweets\",file_name='aspergillosis')"
      ],
      "execution_count": null,
      "outputs": []
    },
    {
      "cell_type": "code",
      "metadata": {
        "id": "tD0G64X8y4jW"
      },
      "source": [
        ""
      ],
      "execution_count": null,
      "outputs": []
    },
    {
      "cell_type": "code",
      "metadata": {
        "id": "Uj1sqbAJy5EI"
      },
      "source": [
        ""
      ],
      "execution_count": null,
      "outputs": []
    }
  ]
}